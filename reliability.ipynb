{
 "cells": [
  {
   "cell_type": "code",
   "execution_count": 127,
   "metadata": {},
   "outputs": [],
   "source": [
    "import pandas as pd\n",
    "import krippendorff"
   ]
  },
  {
   "cell_type": "code",
   "execution_count": null,
   "metadata": {},
   "outputs": [],
   "source": [
    "#http://ict.usc.edu/pubs/Inter-Coder%20Agreement%20for%20Computational%20Linguistics.pdf\n",
    "\n",
    "#https://towardsdatascience.com/inter-rater-agreement-kappas-69cd8b91ff75"
   ]
  },
  {
   "cell_type": "code",
   "execution_count": 608,
   "metadata": {},
   "outputs": [],
   "source": [
    "df2 = pd.read_csv(\"../data/raw/RPA_coding.csv\", skiprows = 1)"
   ]
  },
  {
   "cell_type": "code",
   "execution_count": 609,
   "metadata": {},
   "outputs": [
    {
     "data": {
      "text/plain": [
       "3603"
      ]
     },
     "execution_count": 609,
     "metadata": {},
     "output_type": "execute_result"
    }
   ],
   "source": [
    "len(df2)"
   ]
  },
  {
   "cell_type": "code",
   "execution_count": 647,
   "metadata": {},
   "outputs": [
    {
     "data": {
      "text/plain": [
       "2152"
      ]
     },
     "execution_count": 647,
     "metadata": {},
     "output_type": "execute_result"
    }
   ],
   "source": [
    "df2['n'] = 1\n",
    "df2.rename(columns={'Document nummer (voor kranten staat in bestand voor kamervragen bijvoorbeeld ah-tk-20012002-89 (z...':'docnr'}, \n",
    "                 inplace=True)\n",
    "df2.columns\n",
    "\n",
    "d = df2[df2.duplicated('docnr',keep=False)]\n",
    "len(d)"
   ]
  },
  {
   "cell_type": "code",
   "execution_count": 784,
   "metadata": {},
   "outputs": [],
   "source": [
    "d = d[d.Codeursnaam.notnull()]\n",
    "d = d[d.docnr.notnull()]\n",
    "d[['Codeursnaam', 'docnr']]\n",
    "\n",
    "icr = d\n",
    "icr = icr[~icr.duplicated(['docnr', 'Codeursnaam'])]\n",
    "\n",
    "icr.sort_values('docnr')[['Codeursnaam', 'docnr']]\n",
    "\n",
    "icr = icr[~icr.duplicated(['docnr', 'Codeursnaam'])]\n",
    "icr = icr[icr.duplicated('docnr',keep=False)]\n",
    "\n",
    "#icr[['Codeursnaam', 'docnr', icr.columns[13]]].sort_values('docnr')\n",
    "\n",
    "#icr = icr[icr['Krantenbericht of kamervraag?'] == 1]\n",
    "#icr = icr[icr.duplicated(['docnr', icr.columns[13]],keep=False)]\n",
    "#icr = icr[icr.duplicated(['docnr', 'Datum? (DD-MM-JJJJ)'],keep=False)]\n",
    "#icr[icr.duplicated(['docnr', icr.columns[13]],keep=False)][['Codeursnaam', 'docnr', icr.columns[13], 'Datum? (DD-MM-JJJJ)']].sort_values('docnr')"
   ]
  },
  {
   "cell_type": "code",
   "execution_count": 785,
   "metadata": {},
   "outputs": [
    {
     "data": {
      "text/plain": [
       "832"
      ]
     },
     "execution_count": 785,
     "metadata": {},
     "output_type": "execute_result"
    }
   ],
   "source": [
    "conflict = icr.columns[26]\n",
    "human_interest = icr.columns[23]\n",
    "att_res = icr.columns[20]\n",
    "economic = icr.columns[29]\n",
    "\n",
    "icr.rename(columns={human_interest : 'human_interest', att_res : 'attribution_resp', conflict : 'conflict',\n",
    "                    economic : 'economic_consequences', 'Datum? (DD-MM-JJJJ)' : 'publication_date'}, inplace=True)\n",
    "\n",
    "# get dates\n",
    "\n",
    "error = icr.publication_date[pd.isnull(pd.to_datetime(icr.publication_date, errors ='coerce'))]\n",
    "indexes_to_keep = set(range(icr.shape[0])) - set(error.index)\n",
    "icr = icr.take(list(indexes_to_keep))\n",
    "icr['publication_date'] = pd.to_datetime(icr.publication_date, errors ='coerce')\n",
    "icr['year'] = pd.DatetimeIndex(icr['publication_date']).year\n",
    "icr['month'] = pd.DatetimeIndex(icr['publication_date']).month\n",
    "icr['day'] = pd.DatetimeIndex(icr['publication_date']).day\n",
    "\n",
    "icr = icr[icr.duplicated(['docnr','year','month', icr.columns[13]],keep=False)]\n",
    "\n",
    "#icr = icr[icr.duplicated(['docnr', 'day'],keep=False)]\n",
    "#icr[icr.duplicated(['docnr', icr.columns[13]],keep=False)][['Codeursnaam', 'docnr', 'year', 'month',icr.columns[13], 'year']].sort_values('docnr')\n",
    "\n",
    "# make sure doc nr and newspaper are correct\n",
    "#icr = icr[icr.duplicated(['docnr',  icr.columns[13]],keep=False)]\n",
    "len(icr)"
   ]
  },
  {
   "cell_type": "code",
   "execution_count": 823,
   "metadata": {},
   "outputs": [
    {
     "name": "stdout",
     "output_type": "stream",
     "text": [
      "395\n",
      "15\n",
      "395\n",
      "395\n"
     ]
    },
    {
     "data": {
      "text/plain": [
       "[{'frame': 'human_interest',\n",
       "  'Krippendorf': 0.07485975212002605,\n",
       "  'agreement': 81.66666666666666},\n",
       " {'frame': 'attribution_resp',\n",
       "  'Krippendorf': 0.011363636363636354,\n",
       "  'agreement': 97.33009708737865},\n",
       " {'frame': 'conflict',\n",
       "  'Krippendorf': 0.14824905203454097,\n",
       "  'agreement': 81.0337552742616},\n",
       " {'frame': 'economic_consequences',\n",
       "  'Krippendorf': 0.3644119833241768,\n",
       "  'agreement': 82.51054852320675}]"
      ]
     },
     "execution_count": 823,
     "metadata": {},
     "output_type": "execute_result"
    }
   ],
   "source": [
    "## icr = icr[icr['Krantenbericht of kamervraag?'] == 1]\n",
    "def get_reliability(df):\n",
    "    d = {}\n",
    "    result = []\n",
    "    for frame in ['human_interest', 'attribution_resp', 'conflict', 'economic_consequences']:\n",
    "        \n",
    "        r = icr.pivot(index='docnr', columns='Codeursnaam', values=frame)       \n",
    "        r['codeurs'] = 5 - r.isnull().sum(axis=1)\n",
    "        r = r[r['codeurs'] > 1]  \n",
    "        r = r[[1.0, 3.0, 4.0, 5.0, 6.0]]\n",
    "        \n",
    "        print(len(r))\n",
    "        \n",
    "        r = r.transpose()\n",
    "        \n",
    "        #r_ = icr.pivot(index='docnr', columns='Codeursnaam', values=frame).transpose()\n",
    "        #print(\"length of the df: {}\".format(len(list(r_.columns)) ))\n",
    "        kr = krippendorff.alpha(r)\n",
    "\n",
    "        r = icr.pivot(index='docnr', columns='Codeursnaam', values=frame)\n",
    "        r['1s'] = r.isin([1.0]).sum(axis=1)\n",
    "        r['2s'] = r.isin([2.0]).sum(axis=1)\n",
    "        r['codeurs'] = 5 - r.isnull().sum(axis=1)\n",
    "        r['agreement'] = ( r['2s'] / r['codeurs'] ) * 100\n",
    "        d = {\"frame\": frame,\n",
    "            \"Krippendorf\": kr,\n",
    "            \"agreement\": r['agreement'].mean() }\n",
    "        result.append(d)\n",
    "    return result\n",
    "\n",
    "result = get_reliability(icr)\n",
    "result"
   ]
  },
  {
   "cell_type": "code",
   "execution_count": 775,
   "metadata": {},
   "outputs": [
    {
     "data": {
      "text/plain": [
       "0.0024608866213596814"
      ]
     },
     "execution_count": 775,
     "metadata": {},
     "output_type": "execute_result"
    }
   ],
   "source": [
    "def label_topic(row):\n",
    "    if row['main_topic'] == '1':\n",
    "        return 'Macro-economie en belastingen'\n",
    "    if row['main_topic'] == '2':\n",
    "        return 'Burgerrechten en vrijheden'\n",
    "    if row['main_topic'] == '3':\n",
    "        return 'Gezondheid'\n",
    "    if row['main_topic'] == '4':\n",
    "        return 'Landbouw en Visserij'\n",
    "    if row['main_topic'] == '5':\n",
    "        return 'Arbeid'\n",
    "    if row['main_topic'] == '6':\n",
    "        return 'Onderwijs'\n",
    "    if row['main_topic'] == '7':\n",
    "        return 'Milieu'\n",
    "    if row['main_topic'] == '8':\n",
    "        return 'Energiebeleid'\n",
    "    if row['main_topic'] == '9':\n",
    "        return 'Immigratie en integratie'\n",
    "    if row['main_topic'] == '10':\n",
    "        return 'Verkeer en vervoer'\n",
    "    if row['main_topic'] == '11':\n",
    "        return 'Unkown'\n",
    "    if row['main_topic'] == '12':\n",
    "        return 'Justitie, Rechtspraak, Criminaliteit'\n",
    "    if row['main_topic'] == '13':\n",
    "        return 'sociale Zaken'\n",
    "    if row['main_topic'] == '14':\n",
    "        return 'Gemeenschapsontwikkeling, huisvestingsbeleid en stedelijke planning'\n",
    "    if row['main_topic'] == '15':\n",
    "        return 'Ondernemingen, Bankwezen en binnenlandse handel '\n",
    "    if row['main_topic'] == '16':\n",
    "        return 'Defensie'\n",
    "    if row['main_topic'] == '17':\n",
    "        return 'Wetenschappelijk onderzoek, technologie en communicatie'\n",
    "    if row['main_topic'] == '18':\n",
    "        return 'Buitenlandse handel'\n",
    "    if row['main_topic'] == '19':\n",
    "        return 'Buitenlandse zaken en ontwikkelingssamenwerking'\n",
    "    if row['main_topic'] == '20':\n",
    "        return 'Functioneren democratie en openbaar bestuur'\n",
    "    if row['main_topic'] == '21':\n",
    "        return 'Ruimtelijke ordening, publiek natuur- en waterbeheer'\n",
    "    if row['main_topic'] == '22':\n",
    "        return 'Unkown 2'\n",
    "    if row['main_topic'] == '23':\n",
    "        return 'Kunst, cultuur en entertainment'\n",
    "    if row['main_topic'] == '00':\n",
    "        return 'Toegevoegde codes voor media'\n",
    "\n",
    "\n",
    "def recode_maintopics(df):\n",
    "    ''' returns recoded main topics '''\n",
    "\n",
    "    df['main_topic'] = df['topic_number'].str[:-2]\n",
    "    df['main_topic_label'] = df.apply (lambda row: label_topic (row),axis=1)\n",
    "    df[['main_topic','main_topic_label']][0:5]\n",
    "    return df\n",
    "\n",
    "\n",
    "icr['topic_number'] = icr[icr.columns[17]]\n",
    "df = recode_maintopics(icr)\n",
    "\n",
    "df['main_topic'] = pd.to_numeric(df['main_topic'], errors='coerce')\n",
    "r = df.pivot(index='docnr', columns='Codeursnaam', values='main_topic')\n",
    "#print(\"length of the df: {}\".format(len(list(r_.columns)) ))\n",
    "r = r.values\n",
    "\n",
    "krippendorff.alpha(r)\n",
    "#import numpy as np\n",
    "#df['main_topic'] = df['main_topic'].replace('', np.nan)\n",
    "#df['main_topic'].astype(int)"
   ]
  },
  {
   "cell_type": "code",
   "execution_count": 776,
   "metadata": {},
   "outputs": [
    {
     "data": {
      "text/plain": [
       "27      12.0\n",
       "28       8.0\n",
       "29      16.0\n",
       "30       3.0\n",
       "31       3.0\n",
       "        ... \n",
       "3145     9.0\n",
       "3191    14.0\n",
       "3219    10.0\n",
       "3455    19.0\n",
       "3509     7.0\n",
       "Name: main_topic, Length: 832, dtype: float64"
      ]
     },
     "execution_count": 776,
     "metadata": {},
     "output_type": "execute_result"
    }
   ],
   "source": [
    "df['main_topic']"
   ]
  }
 ],
 "metadata": {
  "kernelspec": {
   "display_name": "Python 3",
   "language": "python",
   "name": "python3"
  },
  "language_info": {
   "codemirror_mode": {
    "name": "ipython",
    "version": 3
   },
   "file_extension": ".py",
   "mimetype": "text/x-python",
   "name": "python",
   "nbconvert_exporter": "python",
   "pygments_lexer": "ipython3",
   "version": "3.7.2"
  }
 },
 "nbformat": 4,
 "nbformat_minor": 2
}

{
 "cells": [
  {
   "cell_type": "code",
   "execution_count": 2,
   "metadata": {},
   "outputs": [],
   "source": [
    "import pandas as pd\n",
    "import krippendorff"
   ]
  },
  {
   "cell_type": "code",
   "execution_count": null,
   "metadata": {},
   "outputs": [],
   "source": [
    "#http://ict.usc.edu/pubs/Inter-Coder%20Agreement%20for%20Computational%20Linguistics.pdf\n",
    "#https://towardsdatascience.com/inter-rater-agreement-kappas-69cd8b91ff75"
   ]
  },
  {
   "cell_type": "markdown",
   "metadata": {},
   "source": [
    "### Calculating reliability on final training set (N = 19)"
   ]
  },
  {
   "cell_type": "code",
   "execution_count": 212,
   "metadata": {},
   "outputs": [],
   "source": [
    "# defining functions\n",
    "\n",
    "def recode_maintopics(df):\n",
    "    ''' returns recoded main topics '''\n",
    "\n",
    "    df['C1: V2'] = df['C1: V2'].str[:-4]\n",
    "    df['C2: V2'] = df['C2: V2'].str[:-4]\n",
    "    df['C3: V2'] = df['C3: V2'].str[:-4]\n",
    "    return df\n",
    "\n",
    "def get_percent_agreement(x):\n",
    "    if x[df.columns[0]] == x[df.columns[1]] == x[df.columns[2]]:\n",
    "         return(100)\n",
    "    elif x[df.columns[0]] == x[df.columns[1]] != x[df.columns[2]]:\n",
    "        return(66.66)\n",
    "    elif x[df.columns[0]] != x[df.columns[1]] == x[df.columns[2]]:\n",
    "        return(66.66)\n",
    "    elif x[df.columns[0]] == x[df.columns[2]] != x[df.columns[1]]:\n",
    "        return(66.66)\n",
    "    else: \n",
    "        return(0)\n",
    "\n",
    "def get_percent_agreement_frames(df):\n",
    "    df['1s'] = df.isin([1.0]).sum(axis=1)\n",
    "    df['1s'] = df['1s'].replace(0, 3)\n",
    "    df['agreement'] = (df['1s'] / 3 ) * 100\n",
    "    return df['agreement'].mean()\n",
    "\n",
    "def recode_maintopics(df):\n",
    "    ''' returns recoded main topics '''\n",
    "\n",
    "    df['C1: V2'] = df['C1: V2'].str[:-4]\n",
    "    df['C2: V2'] = df['C2: V2'].str[:-4]\n",
    "    df['C3: V2'] = df['C3: V2'].str[:-4]\n",
    "    return df"
   ]
  },
  {
   "cell_type": "markdown",
   "metadata": {},
   "source": [
    "#### get Kalpa and % agreement for frames"
   ]
  },
  {
   "cell_type": "code",
   "execution_count": 197,
   "metadata": {},
   "outputs": [
    {
     "name": "stdout",
     "output_type": "stream",
     "text": [
      "Attribution of responsibiity:\n",
      "Krippendorff:\n",
      "0.3572984749455338\n",
      "Percentage agreement:\n",
      "84.99999999999999\n",
      "\n",
      "Human Interest:\n",
      "Krippendorff:\n",
      "0.5809659090909092\n",
      "Percentage agreement:\n",
      "86.66666666666666\n",
      "\n",
      "Conflict Frame:\n",
      "0.5745192307692308\n",
      "Percentage agreement:\n",
      "93.33333333333333\n",
      "\n",
      "Economic consequences frame\n",
      "0.7882775119617225\n",
      "Percentage agreement:\n",
      "91.66666666666666\n"
     ]
    }
   ],
   "source": [
    "# Frames\n",
    "\n",
    "df = pd.read_excel(\"data/raw/RPA_frames_ICR.xlsx\", skiprows=1)\n",
    "df.columns\n",
    "\n",
    "#attribution = df[['C1: V4.1', 'C2: V4.1', 'C3: V4.1']][:20].transpose()\n",
    "print(\"Attribution of responsibiity:\")\n",
    "attribution = df[['C1: V4.1', 'C2: V4.1', 'C3: V4.1']][:20].transpose()\n",
    "print(\"Krippendorff:\")\n",
    "print(krippendorff.alpha(attribution))\n",
    "print(\"Percentage agreement:\")\n",
    "print(get_percent_agreement_frames(attribution.transpose()) )\n",
    "\n",
    "print()\n",
    "\n",
    "print(\"Human Interest:\")\n",
    "humaninterest = df[['C1: V5.1', 'C2: V5.1', 'C3: V5.1']][:20].transpose()\n",
    "print(\"Krippendorff:\")\n",
    "print(krippendorff.alpha(humaninterest))\n",
    "print(\"Percentage agreement:\")\n",
    "print(get_percent_agreement_frames(humaninterest.transpose()) )\n",
    "\n",
    "print()\n",
    "\n",
    "conflictframe = df[['C1: V6.1', 'C2: V6.1', 'C3: V6.1']][:20].transpose()\n",
    "print(\"Conflict Frame:\")\n",
    "print(krippendorff.alpha(conflictframe))\n",
    "print(\"Percentage agreement:\")\n",
    "print(get_percent_agreement_frames(conflictframe.transpose()) )\n",
    "\n",
    "print()\n",
    "\n",
    "\n",
    "economic = df[['C1: V8.1', 'C2: V8.1', 'C3: V8.1']][:20].transpose()\n",
    "print(\"Economic consequences frame\")\n",
    "print(krippendorff.alpha(economic ))\n",
    "print(\"Percentage agreement:\")\n",
    "print(get_percent_agreement_frames(economic.transpose()) )\n"
   ]
  },
  {
   "cell_type": "markdown",
   "metadata": {},
   "source": [
    "#### get Kalpa and % agreement for topics"
   ]
  },
  {
   "cell_type": "code",
   "execution_count": 201,
   "metadata": {},
   "outputs": [
    {
     "name": "stdout",
     "output_type": "stream",
     "text": [
      "Krippendorff alpha for topics is:\n",
      "0.6227780905654308\n",
      "\n",
      "And the percentage agreement:\n",
      "89.47157894736843\n"
     ]
    }
   ],
   "source": [
    "df = pd.read_excel(\"data/raw/RPA_topics_ICR.xlsx\", skiprows=1)\n",
    "df = df[['C1: V2', 'C2: V2', 'C3: V2']][:19].astype(str)\n",
    "\n",
    "df = recode_maintopics(df)\n",
    "df = df[['C1: V2', 'C2: V2', 'C3: V2']].astype(int)\n",
    "df = df.transpose()\n",
    "\n",
    "print(\"Krippendorff alpha for topics is:\")\n",
    "print(krippendorff.alpha(df))\n",
    "\n",
    "# Calculate percentage agreement\n",
    "df = df.transpose()\n",
    "               \n",
    "df['percent_agreement'] = df.apply(lambda row: get_percent_agreement(row), axis=1)\n",
    "print(\"\\nAnd the percentage agreement:\")\n",
    "print(df['percent_agreement'].mean())"
   ]
  },
  {
   "cell_type": "markdown",
   "metadata": {},
   "source": [
    "#### Getting reliability based on duplicate dataset"
   ]
  },
  {
   "cell_type": "code",
   "execution_count": 204,
   "metadata": {},
   "outputs": [],
   "source": [
    "df2 = pd.read_csv(\"data/raw/RPA_coding.csv\", skiprows = 1)"
   ]
  },
  {
   "cell_type": "code",
   "execution_count": 205,
   "metadata": {},
   "outputs": [],
   "source": [
    "df2['n'] = 1\n",
    "df2.rename(columns={'Document nummer (voor kranten staat in bestand voor kamervragen bijvoorbeeld ah-tk-20012002-89 (z...':'docnr'}, \n",
    "                 inplace=True)\n",
    "df2.columns\n",
    "d = df2[df2.duplicated('docnr',keep=False)]"
   ]
  },
  {
   "cell_type": "code",
   "execution_count": 208,
   "metadata": {},
   "outputs": [],
   "source": [
    "d = d[d.Codeursnaam.notnull()]\n",
    "d = d[d.docnr.notnull()]\n",
    "d[['Codeursnaam', 'docnr']]\n",
    "\n",
    "icr = d\n",
    "icr = icr[~icr.duplicated(['docnr', 'Codeursnaam'])]\n",
    "\n",
    "icr.sort_values('docnr')[['Codeursnaam', 'docnr']]\n",
    "\n",
    "icr = icr[~icr.duplicated(['docnr', 'Codeursnaam'])]\n",
    "icr = icr[icr.duplicated('docnr',keep=False)]\n",
    "\n",
    "#icr[['Codeursnaam', 'docnr', icr.columns[13]]].sort_values('docnr')\n",
    "\n",
    "#icr = icr[icr['Krantenbericht of kamervraag?'] == 1]\n",
    "#icr = icr[icr.duplicated(['docnr', icr.columns[13]],keep=False)]\n",
    "#icr = icr[icr.duplicated(['docnr', 'Datum? (DD-MM-JJJJ)'],keep=False)]\n",
    "#icr[icr.duplicated(['docnr', icr.columns[13]],keep=False)][['Codeursnaam', 'docnr', icr.columns[13], 'Datum? (DD-MM-JJJJ)']].sort_values('docnr')"
   ]
  },
  {
   "cell_type": "code",
   "execution_count": 209,
   "metadata": {},
   "outputs": [
    {
     "data": {
      "text/plain": [
       "832"
      ]
     },
     "execution_count": 209,
     "metadata": {},
     "output_type": "execute_result"
    }
   ],
   "source": [
    "conflict = icr.columns[26]\n",
    "human_interest = icr.columns[23]\n",
    "att_res = icr.columns[20]\n",
    "economic = icr.columns[29]\n",
    "\n",
    "icr.rename(columns={human_interest : 'human_interest', att_res : 'attribution_resp', conflict : 'conflict',\n",
    "                    economic : 'economic_consequences', 'Datum? (DD-MM-JJJJ)' : 'publication_date'}, inplace=True)\n",
    "\n",
    "# get dates\n",
    "\n",
    "error = icr.publication_date[pd.isnull(pd.to_datetime(icr.publication_date, errors ='coerce'))]\n",
    "indexes_to_keep = set(range(icr.shape[0])) - set(error.index)\n",
    "icr = icr.take(list(indexes_to_keep))\n",
    "icr['publication_date'] = pd.to_datetime(icr.publication_date, errors ='coerce')\n",
    "icr['year'] = pd.DatetimeIndex(icr['publication_date']).year\n",
    "icr['month'] = pd.DatetimeIndex(icr['publication_date']).month\n",
    "icr['day'] = pd.DatetimeIndex(icr['publication_date']).day\n",
    "\n",
    "icr = icr[icr.duplicated(['docnr','year','month', icr.columns[13]],keep=False)]\n",
    "\n",
    "#icr = icr[icr.duplicated(['docnr', 'day'],keep=False)]\n",
    "#icr[icr.duplicated(['docnr', icr.columns[13]],keep=False)][['Codeursnaam', 'docnr', 'year', 'month',icr.columns[13], 'year']].sort_values('docnr')\n",
    "\n",
    "# make sure doc nr and newspaper are correct\n",
    "#icr = icr[icr.duplicated(['docnr',  icr.columns[13]],keep=False)]\n",
    "len(icr)"
   ]
  },
  {
   "cell_type": "code",
   "execution_count": 210,
   "metadata": {},
   "outputs": [
    {
     "name": "stdout",
     "output_type": "stream",
     "text": [
      "395\n",
      "15\n",
      "395\n",
      "395\n"
     ]
    },
    {
     "data": {
      "text/plain": [
       "[{'frame': 'human_interest',\n",
       "  'Krippendorf': 0.07485975212002605,\n",
       "  'agreement': 81.66666666666666},\n",
       " {'frame': 'attribution_resp',\n",
       "  'Krippendorf': 0.011363636363636354,\n",
       "  'agreement': 97.33009708737865},\n",
       " {'frame': 'conflict',\n",
       "  'Krippendorf': 0.14824905203454097,\n",
       "  'agreement': 81.0337552742616},\n",
       " {'frame': 'economic_consequences',\n",
       "  'Krippendorf': 0.3644119833241768,\n",
       "  'agreement': 82.51054852320675}]"
      ]
     },
     "execution_count": 210,
     "metadata": {},
     "output_type": "execute_result"
    }
   ],
   "source": [
    "## icr = icr[icr['Krantenbericht of kamervraag?'] == 1]\n",
    "def get_reliability(df):\n",
    "    d = {}\n",
    "    result = []\n",
    "    for frame in ['human_interest', 'attribution_resp', 'conflict', 'economic_consequences']:\n",
    "        \n",
    "        r = icr.pivot(index='docnr', columns='Codeursnaam', values=frame)       \n",
    "        r['codeurs'] = 5 - r.isnull().sum(axis=1)\n",
    "        r = r[r['codeurs'] > 1]  \n",
    "        r = r[[1.0, 3.0, 4.0, 5.0, 6.0]]\n",
    "        \n",
    "        print(len(r))\n",
    "        \n",
    "        r = r.transpose()\n",
    "        \n",
    "        #r_ = icr.pivot(index='docnr', columns='Codeursnaam', values=frame).transpose()\n",
    "        #print(\"length of the df: {}\".format(len(list(r_.columns)) ))\n",
    "        kr = krippendorff.alpha(r)\n",
    "\n",
    "        r = icr.pivot(index='docnr', columns='Codeursnaam', values=frame)\n",
    "        r['1s'] = r.isin([1.0]).sum(axis=1)\n",
    "        r['2s'] = r.isin([2.0]).sum(axis=1)\n",
    "        r['codeurs'] = 5 - r.isnull().sum(axis=1)\n",
    "        r['agreement'] = ( r['2s'] / r['codeurs'] ) * 100\n",
    "        d = {\"frame\": frame,\n",
    "            \"Krippendorf\": kr,\n",
    "            \"agreement\": r['agreement'].mean() }\n",
    "        result.append(d)\n",
    "    return result\n",
    "\n",
    "result = get_reliability(icr)\n",
    "result"
   ]
  },
  {
   "cell_type": "code",
   "execution_count": 211,
   "metadata": {},
   "outputs": [
    {
     "data": {
      "text/plain": [
       "0.0024608866213596814"
      ]
     },
     "execution_count": 211,
     "metadata": {},
     "output_type": "execute_result"
    }
   ],
   "source": [
    "def label_topic(row):\n",
    "    if row['main_topic'] == '1':\n",
    "        return 'Macro-economie en belastingen'\n",
    "    if row['main_topic'] == '2':\n",
    "        return 'Burgerrechten en vrijheden'\n",
    "    if row['main_topic'] == '3':\n",
    "        return 'Gezondheid'\n",
    "    if row['main_topic'] == '4':\n",
    "        return 'Landbouw en Visserij'\n",
    "    if row['main_topic'] == '5':\n",
    "        return 'Arbeid'\n",
    "    if row['main_topic'] == '6':\n",
    "        return 'Onderwijs'\n",
    "    if row['main_topic'] == '7':\n",
    "        return 'Milieu'\n",
    "    if row['main_topic'] == '8':\n",
    "        return 'Energiebeleid'\n",
    "    if row['main_topic'] == '9':\n",
    "        return 'Immigratie en integratie'\n",
    "    if row['main_topic'] == '10':\n",
    "        return 'Verkeer en vervoer'\n",
    "    if row['main_topic'] == '11':\n",
    "        return 'Unkown'\n",
    "    if row['main_topic'] == '12':\n",
    "        return 'Justitie, Rechtspraak, Criminaliteit'\n",
    "    if row['main_topic'] == '13':\n",
    "        return 'sociale Zaken'\n",
    "    if row['main_topic'] == '14':\n",
    "        return 'Gemeenschapsontwikkeling, huisvestingsbeleid en stedelijke planning'\n",
    "    if row['main_topic'] == '15':\n",
    "        return 'Ondernemingen, Bankwezen en binnenlandse handel '\n",
    "    if row['main_topic'] == '16':\n",
    "        return 'Defensie'\n",
    "    if row['main_topic'] == '17':\n",
    "        return 'Wetenschappelijk onderzoek, technologie en communicatie'\n",
    "    if row['main_topic'] == '18':\n",
    "        return 'Buitenlandse handel'\n",
    "    if row['main_topic'] == '19':\n",
    "        return 'Buitenlandse zaken en ontwikkelingssamenwerking'\n",
    "    if row['main_topic'] == '20':\n",
    "        return 'Functioneren democratie en openbaar bestuur'\n",
    "    if row['main_topic'] == '21':\n",
    "        return 'Ruimtelijke ordening, publiek natuur- en waterbeheer'\n",
    "    if row['main_topic'] == '22':\n",
    "        return 'Unkown 2'\n",
    "    if row['main_topic'] == '23':\n",
    "        return 'Kunst, cultuur en entertainment'\n",
    "    if row['main_topic'] == '00':\n",
    "        return 'Toegevoegde codes voor media'\n",
    "\n",
    "\n",
    "def recode_maintopics(df):\n",
    "    ''' returns recoded main topics '''\n",
    "\n",
    "    df['main_topic'] = df['topic_number'].str[:-2]\n",
    "    df['main_topic_label'] = df.apply (lambda row: label_topic (row),axis=1)\n",
    "    df[['main_topic','main_topic_label']][0:5]\n",
    "    return df\n",
    "\n",
    "\n",
    "icr['topic_number'] = icr[icr.columns[17]]\n",
    "df = recode_maintopics(icr)\n",
    "\n",
    "df['main_topic'] = pd.to_numeric(df['main_topic'], errors='coerce')\n",
    "r = df.pivot(index='docnr', columns='Codeursnaam', values='main_topic')\n",
    "#print(\"length of the df: {}\".format(len(list(r_.columns)) ))\n",
    "r = r.values\n",
    "\n",
    "krippendorff.alpha(r)\n",
    "#import numpy as np\n",
    "#df['main_topic'] = df['main_topic'].replace('', np.nan)\n",
    "#df['main_topic'].astype(int)"
   ]
  }
 ],
 "metadata": {
  "kernelspec": {
   "display_name": "Python 3",
   "language": "python",
   "name": "python3"
  },
  "language_info": {
   "codemirror_mode": {
    "name": "ipython",
    "version": 3
   },
   "file_extension": ".py",
   "mimetype": "text/x-python",
   "name": "python",
   "nbconvert_exporter": "python",
   "pygments_lexer": "ipython3",
   "version": "3.7.2"
  }
 },
 "nbformat": 4,
 "nbformat_minor": 2
}

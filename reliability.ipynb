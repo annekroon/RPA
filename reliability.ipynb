{
 "cells": [
  {
   "cell_type": "code",
   "execution_count": 503,
   "metadata": {},
   "outputs": [],
   "source": [
    "import pandas as pd\n",
    "import krippendorff\n",
    "import numpy as np\n",
    "import re"
   ]
  },
  {
   "cell_type": "code",
   "execution_count": null,
   "metadata": {},
   "outputs": [],
   "source": [
    "#http://ict.usc.edu/pubs/Inter-Coder%20Agreement%20for%20Computational%20Linguistics.pdf\n",
    "#https://towardsdatascience.com/inter-rater-agreement-kappas-69cd8b91ff75"
   ]
  },
  {
   "cell_type": "markdown",
   "metadata": {},
   "source": [
    "### Calculating reliability on final training set (N = 20)"
   ]
  },
  {
   "cell_type": "code",
   "execution_count": 662,
   "metadata": {},
   "outputs": [],
   "source": [
    "\n",
    "\n",
    "def get_percent_agreement(x):\n",
    "    if x[df.columns[0]] == x[df.columns[1]] == x[df.columns[2]]:\n",
    "         return(100)\n",
    "    elif x[df.columns[0]] == x[df.columns[1]] != x[df.columns[2]]:\n",
    "        return(66.66)\n",
    "    elif x[df.columns[0]] != x[df.columns[1]] == x[df.columns[2]]:\n",
    "        return(66.66)\n",
    "    elif x[df.columns[0]] == x[df.columns[2]] != x[df.columns[1]]:\n",
    "        return(66.66)\n",
    "    else: \n",
    "        return(0)\n",
    "\n",
    "def get_percent_agreement_frames(df):\n",
    "    df['1s'] = df.isin([1.0]).sum(axis=1)\n",
    "    df['1s'] = df['1s'].replace(0, 3)\n",
    "    df['agreement'] = (df['1s'] / 3 ) * 100\n",
    "    return df['agreement'].mean()\n",
    "\n",
    "def recode_maintopics(df):\n",
    "    ''' returns recoded main topics '''\n",
    "\n",
    "    df['C1: V2'] = df['C1: V2'].str[:-4]\n",
    "    df['C2: V2'] = df['C2: V2'].str[:-4]\n",
    "    df['C3: V2'] = df['C3: V2'].str[:-4]\n",
    "    return df"
   ]
  },
  {
   "cell_type": "code",
   "execution_count": 354,
   "metadata": {},
   "outputs": [],
   "source": [
    "def recode_maintopics(df):\n",
    "    ''' returns recoded main topics '''\n",
    "\n",
    "    df['C1: V2'] = df['C1: V2'].str[:-4]\n",
    "    df['C2: V2'] = df['C2: V2'].str[:-4]\n",
    "    df['C3: V2'] = df['C3: V2'].str[:-4]\n",
    "    return df"
   ]
  },
  {
   "cell_type": "markdown",
   "metadata": {},
   "source": [
    "#### get Kalpa and % agreement for frames"
   ]
  },
  {
   "cell_type": "code",
   "execution_count": 593,
   "metadata": {},
   "outputs": [
    {
     "name": "stdout",
     "output_type": "stream",
     "text": [
      "Attribution of responsibiity:\n",
      "Krippendorff:\n",
      "0.3572984749455338\n",
      "Percentage agreement:\n",
      "84.99999999999999\n",
      "\n",
      "Human Interest:\n",
      "Krippendorff:\n",
      "0.5809659090909092\n",
      "Percentage agreement:\n",
      "86.66666666666666\n",
      "\n",
      "Conflict Frame:\n",
      "0.5745192307692308\n",
      "Percentage agreement:\n",
      "93.33333333333333\n",
      "\n",
      "Economic consequences frame\n",
      "0.7882775119617225\n",
      "Percentage agreement:\n",
      "91.66666666666666\n"
     ]
    }
   ],
   "source": [
    "# Frames\n",
    "df = pd.read_excel(\"data/raw/RPA_frames_ICR.xlsx\", skiprows=1)\n",
    "df.columns\n",
    "\n",
    "#attribution = df[['C1: V4.1', 'C2: V4.1', 'C3: V4.1']][:20].transpose()\n",
    "print(\"Attribution of responsibiity:\")\n",
    "attribution = df[['C1: V4.1', 'C2: V4.1', 'C3: V4.1']][:20].transpose()\n",
    "print(\"Krippendorff:\")\n",
    "print(krippendorff.alpha(attribution))\n",
    "print(\"Percentage agreement:\")\n",
    "print(get_percent_agreement_frames(attribution.transpose()) )\n",
    "\n",
    "print()\n",
    "\n",
    "print(\"Human Interest:\")\n",
    "humaninterest = df[['C1: V5.1', 'C2: V5.1', 'C3: V5.1']][:20].transpose()\n",
    "print(\"Krippendorff:\")\n",
    "print(krippendorff.alpha(humaninterest))\n",
    "print(\"Percentage agreement:\")\n",
    "print(get_percent_agreement_frames(humaninterest.transpose()) )\n",
    "\n",
    "print()\n",
    "\n",
    "conflictframe = df[['C1: V6.1', 'C2: V6.1', 'C3: V6.1']][:20].transpose()\n",
    "print(\"Conflict Frame:\")\n",
    "print(krippendorff.alpha(conflictframe))\n",
    "print(\"Percentage agreement:\")\n",
    "print(get_percent_agreement_frames(conflictframe.transpose()) )\n",
    "\n",
    "print()\n",
    "\n",
    "\n",
    "economics = df[['C1: V8.1', 'C2: V8.1', 'C3: V8.1']][:20].transpose()\n",
    "print(\"Economic consequences frame\")\n",
    "print(krippendorff.alpha(economics ))\n",
    "print(\"Percentage agreement:\")\n",
    "print(get_percent_agreement_frames(economics.transpose()) )\n"
   ]
  },
  {
   "cell_type": "markdown",
   "metadata": {},
   "source": [
    "#### get Kalpa and % agreement for topics"
   ]
  },
  {
   "cell_type": "code",
   "execution_count": 594,
   "metadata": {},
   "outputs": [
    {
     "name": "stdout",
     "output_type": "stream",
     "text": [
      "Krippendorff alpha for topics is:\n",
      "0.6227780905654308\n"
     ]
    },
    {
     "data": {
      "text/plain": [
       "19"
      ]
     },
     "execution_count": 594,
     "metadata": {},
     "output_type": "execute_result"
    }
   ],
   "source": [
    "df = pd.read_excel(\"data/raw/RPA_topics_ICR.xlsx\", skiprows=1)\n",
    "df = df[['C1: V2', 'C2: V2', 'C3: V2']][:19].astype(str)\n",
    "\n",
    "df['C4: V2'] = np.nan\n",
    "df['C5: V2'] = np.nan\n",
    "\n",
    "df = recode_maintopics(df)\n",
    "df = df[['C1: V2', 'C2: V2', 'C3: V2']].astype(int)\n",
    "df = df.transpose()\n",
    "\n",
    "print(\"Krippendorff alpha for topics is:\")\n",
    "print(krippendorff.alpha(df))\n",
    "\n",
    "# Calculate percentage agreement\n",
    "df = df.transpose()\n",
    "               \n",
    "len(df)\n"
   ]
  },
  {
   "cell_type": "markdown",
   "metadata": {},
   "source": [
    "#### Getting reliability based on duplicate dataset"
   ]
  },
  {
   "cell_type": "code",
   "execution_count": 584,
   "metadata": {},
   "outputs": [
    {
     "name": "stdout",
     "output_type": "stream",
     "text": [
      "The N of the sample w only dubble coded news articles (used to calculated ICR for frames) is: 22\n"
     ]
    }
   ],
   "source": [
    "df2 = pd.read_csv(\"data/raw/RPA_coding.csv\", skiprows = 1)\n",
    "\n",
    "df2['n'] = 1\n",
    "df2.rename(columns={'Document nummer (voor kranten staat in bestand voor kamervragen bijvoorbeeld ah-tk-20012002-89 (z...':'docnr'}, \n",
    "                 inplace=True)\n",
    "df2.columns\n",
    "d = df2[df2.duplicated('docnr',keep=False)]\n",
    "\n",
    "d = d[d.Codeursnaam.notnull()]\n",
    "d = d[d.docnr.notnull()]\n",
    "d[['Codeursnaam', 'docnr']]\n",
    "\n",
    "icr = d\n",
    "icr = icr[~icr.duplicated(['docnr', 'Codeursnaam'])]\n",
    "\n",
    "icr.sort_values('docnr')[['Codeursnaam', 'docnr']]\n",
    "\n",
    "icr = icr[~icr.duplicated(['docnr', 'Codeursnaam'])]\n",
    "icr = icr[icr.duplicated('docnr',keep=False)]\n",
    "\n",
    "#icr[['Codeursnaam', 'docnr', icr.columns[13]]].sort_values('docnr')\n",
    "\n",
    "#icr = icr[icr['Krantenbericht of kamervraag?'] == 1]\n",
    "#icr = icr[icr.duplicated(['docnr', icr.columns[13]],keep=False)]\n",
    "#icr = icr[icr.duplicated(['docnr', 'Datum? (DD-MM-JJJJ)'],keep=False)]\n",
    "#icr[icr.duplicated(['docnr', icr.columns[13]],keep=False)][['Codeursnaam', 'docnr', icr.columns[13], 'Datum? (DD-MM-JJJJ)']].sort_values('docnr')\n",
    "\n",
    "conflict = icr.columns[26]\n",
    "human_interest = icr.columns[23]\n",
    "att_res = icr.columns[20]\n",
    "economic = icr.columns[29]\n",
    "\n",
    "icr.rename(columns={human_interest : 'human_interest', att_res : 'attribution_resp', conflict : 'conflict', economic : 'economic_consequences', 'Datum? (DD-MM-JJJJ)' : 'publication_date'}, inplace=True)\n",
    "\n",
    "# get dates\n",
    "\n",
    "error = icr.publication_date[pd.isnull(pd.to_datetime(icr.publication_date, errors ='coerce'))]\n",
    "indexes_to_keep = set(range(icr.shape[0])) - set(error.index)\n",
    "icr = icr.take(list(indexes_to_keep))\n",
    "icr['publication_date'] = pd.to_datetime(icr.publication_date, errors ='coerce')\n",
    "icr['year'] = pd.DatetimeIndex(icr['publication_date']).year\n",
    "icr['month'] = pd.DatetimeIndex(icr['publication_date']).month\n",
    "icr['day'] = pd.DatetimeIndex(icr['publication_date']).day\n",
    "\n",
    "icr = icr[icr.duplicated(['docnr','year','month','day', icr.columns[13],icr.columns[12], icr.columns[15]],keep=False)]\n",
    "\n",
    "#icr = icr[icr.duplicated(['docnr', 'day'],keep=False)]\n",
    "#icr[icr.duplicated(['docnr', icr.columns[13]],keep=False)][['Codeursnaam', 'docnr', 'year', 'month',icr.columns[13], 'year']].sort_values('docnr')\n",
    "\n",
    "# make sure doc nr and newspaper are correct\n",
    "#icr = icr[icr.duplicated(['docnr',  icr.columns[13]],keep=False)]\n",
    "icr[icr.columns[12]].value_counts()\n",
    "icr[['docnr', icr.columns[12]]]\n",
    "fullsample = icr\n",
    "\n",
    "icr = icr[icr[icr.columns[12]] == 1]\n",
    "print(\"The N of the sample w only dubble coded news articles (used to calculated ICR for frames) is: {}\".format(len(icr)))\n"
   ]
  },
  {
   "cell_type": "code",
   "execution_count": 585,
   "metadata": {},
   "outputs": [
    {
     "name": "stdout",
     "output_type": "stream",
     "text": [
      "The N of the sample with both dubble coded Parliamentary questions and news articles (used to calculated ICR for topics) is: 395\n",
      "\n",
      "0.7505034807878472\n"
     ]
    },
    {
     "name": "stderr",
     "output_type": "stream",
     "text": [
      "/Library/Frameworks/Python.framework/Versions/3.7/lib/python3.7/site-packages/ipykernel_launcher.py:32: FutureWarning: Sorting because non-concatenation axis is not aligned. A future version\n",
      "of pandas will change to not sort by default.\n",
      "\n",
      "To accept the future behavior, pass 'sort=False'.\n",
      "\n",
      "To retain the current behavior and silence the warning, pass 'sort=True'.\n",
      "\n"
     ]
    }
   ],
   "source": [
    "#for number, frame in zip(['V5.1', 'V4.1', 'V6.1','V8.1'], ['human_interest', 'attribution_resp', 'conflict', 'economic_consequences']):\n",
    "#    print(frame, number)\n",
    "#    df = icr.pivot(index='docnr', columns='Codeursnaam', values=frame)  \n",
    "#    df.rename(columns={ 1.0: 'C1: '+ number, 3.0: 'C2: '  + number, 4.0: 'C3: ' + number, 5.0: 'C4: ' + number, 6.0: 'C5: '  + number}, inplace=True )\n",
    "#    df\n",
    "\n",
    "topics = fullsample.pivot(index='docnr', columns='Codeursnaam', values=icr.columns[17])\n",
    "topics.rename(columns={  3.0: 'C3: V2', 4.0: 'C4: V2', 5.0: 'C5: V2', 6.0: 'C6: V2'}, inplace=True )\n",
    "\n",
    "topics.reset_index(inplace=True)\n",
    "\n",
    "topics['C1: V2'] = np.nan\n",
    "topics['C2: V2'] = np.nan\n",
    "topics['C3: V2'] = topics['C3: V2'].str[:-2]\n",
    "topics['C4: V2'] = topics['C4: V2'].str[:-2]\n",
    "topics['C5: V2'] = topics['C5: V2'].str[:-2]\n",
    "topics['C6: V2'] = topics['C6: V2'].str[:-2]\n",
    "\n",
    "topics = topics.replace(r'^\\s*$', np.nan, regex=True)\n",
    "        \n",
    "topics['C3: V2'] = pd.to_numeric(topics['C3: V2'], errors='coerce')\n",
    "topics['C1: V2'] = pd.to_numeric(topics['C1: V2'], errors='coerce')\n",
    "topics['C2: V2'] = pd.to_numeric(topics['C2: V2'], errors='coerce')\n",
    "topics['C4: V2'] = pd.to_numeric(topics['C4: V2'], errors='coerce')\n",
    "topics['C5: V2'] = pd.to_numeric(topics['C5: V2'], errors='coerce')\n",
    "topics['C6: V2'] = pd.to_numeric(topics['C6: V2'], errors='coerce')\n",
    "\n",
    "df['C4: V2'] = np.nan\n",
    "df['C5: V2'] = np.nan\n",
    "df['C6: V2'] = np.nan\n",
    "\n",
    "df_ = pd.concat([df, topics])\n",
    "\n",
    "print(\"The N of the sample with both dubble coded Parliamentary questions and news articles (used to calculated ICR for topics) is: {}\".format(len(df_)))\n",
    "print()\n",
    "\n",
    "\n",
    "df_ = df_[['C1: V2', 'C2: V2', 'C3: V2', 'C4: V2', 'C5: V2', 'C6: V2']]\n",
    "\n",
    "print(krippendorff.alpha(df_.transpose()))"
   ]
  },
  {
   "cell_type": "code",
   "execution_count": 586,
   "metadata": {},
   "outputs": [],
   "source": [
    "#icr.pivot(index='docnr', columns='Codeursnaam', values='conflict') \n",
    "#ar\n",
    "#humaninterest\n",
    "#ar.columns\n",
    "#ar[1.0]\n",
    "#ar.rename(columns={ 1.0: 'C1: V4.1' , 3.0: 'C2: V4.1', 4.0: 'C3: V4.1', 5.0: 'C4: V4.1', 6.0: 'C5: V4.1'}, inplace=True )\n",
    "#conflictframe"
   ]
  },
  {
   "cell_type": "code",
   "execution_count": 680,
   "metadata": {},
   "outputs": [
    {
     "name": "stdout",
     "output_type": "stream",
     "text": [
      "0.34340456890198967\n",
      "31\n"
     ]
    },
    {
     "name": "stderr",
     "output_type": "stream",
     "text": [
      "/Library/Frameworks/Python.framework/Versions/3.7/lib/python3.7/site-packages/ipykernel_launcher.py:24: FutureWarning: Sorting because non-concatenation axis is not aligned. A future version\n",
      "of pandas will change to not sort by default.\n",
      "\n",
      "To accept the future behavior, pass 'sort=False'.\n",
      "\n",
      "To retain the current behavior and silence the warning, pass 'sort=True'.\n",
      "\n"
     ]
    }
   ],
   "source": [
    "#'attribution_resp'\n",
    "#human_interest\n",
    "#conflict\n",
    "#economic_consequences\n",
    "\n",
    "def get_df_per_frame(frame):\n",
    "    ar = icr.pivot(index='docnr', columns='Codeursnaam', values=frame) \n",
    "    if frame == 'attribution_resp':\n",
    "        ar.rename(columns={ 1.0: 'C1: V4.1' , 3.0: 'C2: V4.1', 4.0: 'C3: V4.1', 5.0: 'C4: V4.1', 6.0: 'C5: V4.1'}, inplace=True )\n",
    "    if frame == 'human_interest':\n",
    "        ar.rename(columns={ 1.0: 'C1: V5.1' , 3.0: 'C2: V5.1', 4.0: 'C3: V5.1', 5.0: 'C4: V5.1', 6.0: 'C5: V5.1'}, inplace=True )\n",
    "    if frame == 'conflict':\n",
    "        ar.rename(columns={ 1.0: 'C1: V6.1' , 3.0: 'C2: V6.1', 4.0: 'C3: V6.1', 5.0: 'C4: V6.1', 6.0: 'C5: V6.1'}, inplace=True )\n",
    "    if frame == 'economic_consequences':\n",
    "        ar.rename(columns={ 1.0: 'C1: V8.1' , 3.0: 'C2: V8.1', 4.0: 'C3: V8.1', 5.0: 'C4: V8.1', 6.0: 'C5: V8.1'}, inplace=True )\n",
    "    return ar\n",
    "\n",
    "ar = get_df_per_frame('attribution_resp')\n",
    "\n",
    "attribution = attribution.transpose() \n",
    "attribution['C4: V4.1'] = np.nan\n",
    "attribution['C5: V4.1'] = np.nan\n",
    "\n",
    "ar_ = pd.concat([ar, attribution])\n",
    "print(krippendorff.alpha(ar_.transpose()))\n",
    "\n",
    "print(len(ar_))"
   ]
  },
  {
   "cell_type": "code",
   "execution_count": 588,
   "metadata": {},
   "outputs": [
    {
     "name": "stdout",
     "output_type": "stream",
     "text": [
      "0.49414519906323184\n",
      "31\n"
     ]
    },
    {
     "name": "stderr",
     "output_type": "stream",
     "text": [
      "/Library/Frameworks/Python.framework/Versions/3.7/lib/python3.7/site-packages/ipykernel_launcher.py:6: FutureWarning: Sorting because non-concatenation axis is not aligned. A future version\n",
      "of pandas will change to not sort by default.\n",
      "\n",
      "To accept the future behavior, pass 'sort=False'.\n",
      "\n",
      "To retain the current behavior and silence the warning, pass 'sort=True'.\n",
      "\n",
      "  \n"
     ]
    }
   ],
   "source": [
    "hi= get_df_per_frame('human_interest')\n",
    "humaninterest = humaninterest.transpose() \n",
    "humaninterest['C4: V5.1'] = np.nan\n",
    "humaninterest['C5: V5.1'] = np.nan\n",
    "\n",
    "hi_ = pd.concat([hi, humaninterest])\n",
    "print(krippendorff.alpha(hi_.transpose()))\n",
    "print(len(hi_))"
   ]
  },
  {
   "cell_type": "code",
   "execution_count": 663,
   "metadata": {},
   "outputs": [],
   "source": [
    "df['num_uniq'] = [len(set(v[pd.notna(v)].tolist())) for v in df.values]"
   ]
  },
  {
   "cell_type": "code",
   "execution_count": 661,
   "metadata": {},
   "outputs": [
    {
     "name": "stdout",
     "output_type": "stream",
     "text": [
      "percent agreement human interest: 84.93548387096774\n"
     ]
    }
   ],
   "source": [
    "hi__ =hi_.apply(pd.value_counts, axis=1).fillna(0)\n",
    "hi__['ww'] =  ( hi__[2.0] * hi__[1.0] ) + 100\n",
    "        \n",
    "def get_percent_agreement(row):\n",
    "    if row['ww'] == 100.0:\n",
    "        return(100)\n",
    "    elif row['ww'] == 101.0:\n",
    "        return(0)\n",
    "    elif row['ww'] == 102.0:\n",
    "        return(66.6)\n",
    "    else: \n",
    "        return(0)\n",
    "\n",
    "print(\"percent agreement human interest: {}\".format( hi__.apply(lambda row: get_percent_agreement(row),axis=1).mean() ))"
   ]
  },
  {
   "cell_type": "code",
   "execution_count": 589,
   "metadata": {},
   "outputs": [
    {
     "name": "stdout",
     "output_type": "stream",
     "text": [
      "0.5224760501105379\n",
      "31\n",
      "length of orginal dataset: 20, lenght of the dublicates: 11\n"
     ]
    },
    {
     "name": "stderr",
     "output_type": "stream",
     "text": [
      "/Library/Frameworks/Python.framework/Versions/3.7/lib/python3.7/site-packages/ipykernel_launcher.py:6: FutureWarning: Sorting because non-concatenation axis is not aligned. A future version\n",
      "of pandas will change to not sort by default.\n",
      "\n",
      "To accept the future behavior, pass 'sort=False'.\n",
      "\n",
      "To retain the current behavior and silence the warning, pass 'sort=True'.\n",
      "\n",
      "  \n"
     ]
    }
   ],
   "source": [
    "cf= get_df_per_frame('conflict')\n",
    "conflictframe= conflictframe.transpose() \n",
    "conflictframe['C4: V6.1'] = np.nan\n",
    "conflictframe['C5: V6.1'] = np.nan\n",
    "\n",
    "cf_ = pd.concat([cf, conflictframe])\n",
    "print(krippendorff.alpha(cf_.transpose()))\n",
    "\n",
    "print(len(cf_))\n",
    "\n",
    "print(\"length of orginal dataset: {}, lenght of the dublicates: {}\".format(len(conflictframe),len(cf)))"
   ]
  },
  {
   "cell_type": "code",
   "execution_count": 575,
   "metadata": {},
   "outputs": [
    {
     "name": "stdout",
     "output_type": "stream",
     "text": [
      "0.6837996096291477\n"
     ]
    },
    {
     "name": "stderr",
     "output_type": "stream",
     "text": [
      "/Library/Frameworks/Python.framework/Versions/3.7/lib/python3.7/site-packages/ipykernel_launcher.py:6: FutureWarning: Sorting because non-concatenation axis is not aligned. A future version\n",
      "of pandas will change to not sort by default.\n",
      "\n",
      "To accept the future behavior, pass 'sort=False'.\n",
      "\n",
      "To retain the current behavior and silence the warning, pass 'sort=True'.\n",
      "\n",
      "  \n"
     ]
    }
   ],
   "source": [
    "ec= get_df_per_frame('economic_consequences')\n",
    "economics= economics.transpose() \n",
    "economics['C4: V8.1'] = np.nan\n",
    "economics['C5: V8.1'] = np.nan\n",
    "\n",
    "ec_ = pd.concat([ec, economics])\n",
    "print(krippendorff.alpha(ec_.transpose()))"
   ]
  },
  {
   "cell_type": "code",
   "execution_count": 211,
   "metadata": {},
   "outputs": [
    {
     "data": {
      "text/plain": [
       "0.0024608866213596814"
      ]
     },
     "execution_count": 211,
     "metadata": {},
     "output_type": "execute_result"
    }
   ],
   "source": [
    "def label_topic(row):\n",
    "    if row['main_topic'] == '1':\n",
    "        return 'Macro-economie en belastingen'\n",
    "    if row['main_topic'] == '2':\n",
    "        return 'Burgerrechten en vrijheden'\n",
    "    if row['main_topic'] == '3':\n",
    "        return 'Gezondheid'\n",
    "    if row['main_topic'] == '4':\n",
    "        return 'Landbouw en Visserij'\n",
    "    if row['main_topic'] == '5':\n",
    "        return 'Arbeid'\n",
    "    if row['main_topic'] == '6':\n",
    "        return 'Onderwijs'\n",
    "    if row['main_topic'] == '7':\n",
    "        return 'Milieu'\n",
    "    if row['main_topic'] == '8':\n",
    "        return 'Energiebeleid'\n",
    "    if row['main_topic'] == '9':\n",
    "        return 'Immigratie en integratie'\n",
    "    if row['main_topic'] == '10':\n",
    "        return 'Verkeer en vervoer'\n",
    "    if row['main_topic'] == '11':\n",
    "        return 'Unkown'\n",
    "    if row['main_topic'] == '12':\n",
    "        return 'Justitie, Rechtspraak, Criminaliteit'\n",
    "    if row['main_topic'] == '13':\n",
    "        return 'sociale Zaken'\n",
    "    if row['main_topic'] == '14':\n",
    "        return 'Gemeenschapsontwikkeling, huisvestingsbeleid en stedelijke planning'\n",
    "    if row['main_topic'] == '15':\n",
    "        return 'Ondernemingen, Bankwezen en binnenlandse handel '\n",
    "    if row['main_topic'] == '16':\n",
    "        return 'Defensie'\n",
    "    if row['main_topic'] == '17':\n",
    "        return 'Wetenschappelijk onderzoek, technologie en communicatie'\n",
    "    if row['main_topic'] == '18':\n",
    "        return 'Buitenlandse handel'\n",
    "    if row['main_topic'] == '19':\n",
    "        return 'Buitenlandse zaken en ontwikkelingssamenwerking'\n",
    "    if row['main_topic'] == '20':\n",
    "        return 'Functioneren democratie en openbaar bestuur'\n",
    "    if row['main_topic'] == '21':\n",
    "        return 'Ruimtelijke ordening, publiek natuur- en waterbeheer'\n",
    "    if row['main_topic'] == '22':\n",
    "        return 'Unkown 2'\n",
    "    if row['main_topic'] == '23':\n",
    "        return 'Kunst, cultuur en entertainment'\n",
    "    if row['main_topic'] == '00':\n",
    "        return 'Toegevoegde codes voor media'\n",
    "\n",
    "\n",
    "def recode_maintopics(df):\n",
    "    ''' returns recoded main topics '''\n",
    "\n",
    "    df['main_topic'] = df['topic_number'].str[:-2]\n",
    "    df['main_topic_label'] = df.apply (lambda row: label_topic (row),axis=1)\n",
    "    df[['main_topic','main_topic_label']][0:5]\n",
    "    return df\n",
    "\n",
    "\n",
    "icr['topic_number'] = icr[icr.columns[17]]\n",
    "df = recode_maintopics(icr)\n",
    "\n",
    "df['main_topic'] = pd.to_numeric(df['main_topic'], errors='coerce')\n",
    "r = df.pivot(index='docnr', columns='Codeursnaam', values='main_topic')\n",
    "#print(\"length of the df: {}\".format(len(list(r_.columns)) ))\n",
    "r = r.values\n",
    "\n",
    "krippendorff.alpha(r)\n",
    "#import numpy as np\n",
    "#df['main_topic'] = df['main_topic'].replace('', np.nan)\n",
    "#df['main_topic'].astype(int)"
   ]
  }
 ],
 "metadata": {
  "kernelspec": {
   "display_name": "Python 3",
   "language": "python",
   "name": "python3"
  },
  "language_info": {
   "codemirror_mode": {
    "name": "ipython",
    "version": 3
   },
   "file_extension": ".py",
   "mimetype": "text/x-python",
   "name": "python",
   "nbconvert_exporter": "python",
   "pygments_lexer": "ipython3",
   "version": "3.7.2"
  }
 },
 "nbformat": 4,
 "nbformat_minor": 2
}

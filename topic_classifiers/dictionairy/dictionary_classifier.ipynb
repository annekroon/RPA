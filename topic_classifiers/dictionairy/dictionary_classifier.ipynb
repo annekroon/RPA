{
 "cells": [
  {
   "cell_type": "code",
   "execution_count": 8,
   "metadata": {
    "collapsed": true
   },
   "outputs": [],
   "source": [
    "import os, re\n",
    "import logging"
   ]
  },
  {
   "cell_type": "code",
   "execution_count": 35,
   "metadata": {
    "collapsed": true
   },
   "outputs": [],
   "source": [
    "basepath = \"../../resources/dictionary_cap/\""
   ]
  },
  {
   "cell_type": "code",
   "execution_count": 86,
   "metadata": {},
   "outputs": [],
   "source": [
    "# read in the search strings into a list of lists\n",
    "topics = []\n",
    "fcount = 0\n",
    "\n",
    "for filename in os.listdir(basepath):\n",
    "    fcount += 1\n",
    "    if filename.endswith(\".txt\"): \n",
    "        with open(os.path.join(basepath, filename)) as fi:\n",
    "            for line in fi.readlines():\n",
    "                topics.append(line.strip().split('\\n'))\n",
    "     #   print(os.path.join(basepath, filename))"
   ]
  },
  {
   "cell_type": "code",
   "execution_count": 73,
   "metadata": {},
   "outputs": [
    {
     "name": "stdout",
     "output_type": "stream",
     "text": [
      "Created analyzer with 84 words in the dictionary\n"
     ]
    }
   ],
   "source": [
    "topic1 = []\n",
    "with open('../../resources/dictionary_cap/t100.txt') as fi:\n",
    "    for line in fi.readlines():\n",
    "        topic1.append(line.strip().split('\\n'))\n",
    "print(\"Created analyzer with {} words in the dictionary\".format(len(topic1)))"
   ]
  },
  {
   "cell_type": "code",
   "execution_count": 68,
   "metadata": {},
   "outputs": [],
   "source": [
    "class dict_topic_classifier():\n",
    "    '''This class provides an Analyzer of topics based on dictionaries.'''\n",
    "\n",
    "    def __init__(self):\n",
    "        self.nmodel = 0\n",
    "        \n",
    "    def topic_classifier(self, topic, occ = 2):\n",
    "        self.topic = topic\n",
    "        self.occ = occ\n",
    "        for document in get_data(): # read in data\n",
    "            match = [x for x in topic1 if x in document]\n",
    "            print(match)\n",
    "            if len(match) > occ:\n",
    "                print(\"topic contains the following topic : {}\".format(topic))\n",
    "                "
   ]
  }
 ],
 "metadata": {
  "kernelspec": {
   "display_name": "Python 3",
   "language": "python",
   "name": "python3"
  },
  "language_info": {
   "codemirror_mode": {
    "name": "ipython",
    "version": 3
   },
   "file_extension": ".py",
   "mimetype": "text/x-python",
   "name": "python",
   "nbconvert_exporter": "python",
   "pygments_lexer": "ipython3",
   "version": "3.7.2"
  }
 },
 "nbformat": 4,
 "nbformat_minor": 2
}
